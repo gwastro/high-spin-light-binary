{
 "cells": [
  {
   "cell_type": "code",
   "execution_count": 1,
   "id": "5e3f7c0c",
   "metadata": {},
   "outputs": [],
   "source": [
    "import glob, h5py, numpy\n",
    "from pycbc.conversions import mchirp_from_mass1_mass2,chi_eff\n",
    "from pycbc.sensitivity import volume_montecarlo,volume_to_distance_with_errors\n",
    "from lal import YRJUL_SI as lal_YRJUL_SI"
   ]
  },
  {
   "cell_type": "code",
   "execution_count": 2,
   "id": "9588f087",
   "metadata": {},
   "outputs": [],
   "source": [
    "import numpy as np\n",
    "import matplotlib as mpl\n",
    "import matplotlib.pyplot as plt\n",
    "\n",
    "# PLOTTING OPTIONS\n",
    "fig_width_pt = 3*246.0  # Get this from LaTeX using \\showthe\\columnwidth\n",
    "inches_per_pt = 1.0/72.27               # Convert pt to inch\n",
    "golden_mean = (np.sqrt(5)-1.0)/2.0         # Aesthetic ratio\n",
    "fig_width = fig_width_pt*inches_per_pt  # width in inches\n",
    "fig_height = fig_width*golden_mean      # height in inches\n",
    "fig_size =  [fig_width,fig_height]\n",
    "\n",
    "params = { 'axes.labelsize': 24,\n",
    "          'font.family': 'serif',\n",
    "          'font.serif': 'Computer Modern Raman',\n",
    "          'font.size': 24,\n",
    "          'legend.fontsize': 20,\n",
    "          'xtick.labelsize': 24,\n",
    "          'ytick.labelsize': 24,\n",
    "          'axes.grid' : True,\n",
    "          'text.usetex': True,\n",
    "          'savefig.dpi' : 100,\n",
    "          'lines.markersize' : 14,\n",
    "          'figure.figsize': fig_size}\n",
    "\n",
    "mpl.rcParams.update(params)"
   ]
  },
  {
   "cell_type": "markdown",
   "id": "37e33c2e",
   "metadata": {},
   "source": [
    "# injection values"
   ]
  },
  {
   "cell_type": "code",
   "execution_count": 3,
   "id": "fd21580c",
   "metadata": {},
   "outputs": [],
   "source": [
    "with h5py.File(\n",
    "    '/work/yifan.wang/search-high-spin/inj-t10-1p4spin0p9/injhdf/inj_highspin_mass1p4_dist20_300.hdf','r') as f:\n",
    "    injm1 = f['mass1'][:]\n",
    "    injm2 = f['mass2'][:]\n",
    "    injdist = f['distance'][:]\n",
    "    injspin1z = f['spin1z'][:]\n",
    "    injspin2z = f['spin2z'][:]\n",
    "    \n",
    "injmc = mchirp_from_mass1_mass2(injm1,injm2)\n",
    "injchieff = chi_eff(injm1,injm2,injspin1z,injspin2z)"
   ]
  },
  {
   "cell_type": "code",
   "execution_count": 4,
   "id": "db26d52a",
   "metadata": {},
   "outputs": [
    {
     "data": {
      "text/plain": [
       "array([1.44146135, 1.43292728, 1.44562092, ..., 1.4468485 , 1.48729092,\n",
       "       1.42450461])"
      ]
     },
     "execution_count": 4,
     "metadata": {},
     "output_type": "execute_result"
    }
   ],
   "source": [
    "injm1"
   ]
  },
  {
   "cell_type": "code",
   "execution_count": 5,
   "id": "9e9dd6e2",
   "metadata": {},
   "outputs": [
    {
     "data": {
      "text/plain": [
       "array([1.44146135, 1.43292728, 1.44562092, ..., 1.4468485 , 1.48729092,\n",
       "       1.42450461])"
      ]
     },
     "execution_count": 5,
     "metadata": {},
     "output_type": "execute_result"
    }
   ],
   "source": [
    "injm2"
   ]
  },
  {
   "cell_type": "code",
   "execution_count": 6,
   "id": "6479061d",
   "metadata": {},
   "outputs": [
    {
     "data": {
      "text/plain": [
       "array([ 0.9, -0.9,  0.5, ...,  0.9,  0.9, -0.1])"
      ]
     },
     "execution_count": 6,
     "metadata": {},
     "output_type": "execute_result"
    }
   ],
   "source": [
    "injspin1z"
   ]
  },
  {
   "cell_type": "code",
   "execution_count": 7,
   "id": "473c1a9e",
   "metadata": {},
   "outputs": [
    {
     "data": {
      "text/plain": [
       "array([ 0.9, -0.9,  0.5, ...,  0.9,  0.9, -0.1])"
      ]
     },
     "execution_count": 7,
     "metadata": {},
     "output_type": "execute_result"
    }
   ],
   "source": [
    "injspin2z"
   ]
  },
  {
   "cell_type": "code",
   "execution_count": 8,
   "id": "86f203dc",
   "metadata": {},
   "outputs": [
    {
     "data": {
      "text/plain": [
       "array([ 0.9, -0.9,  0.5, ...,  0.9,  0.9, -0.1])"
      ]
     },
     "execution_count": 8,
     "metadata": {},
     "output_type": "execute_result"
    }
   ],
   "source": [
    "injchieff"
   ]
  },
  {
   "cell_type": "markdown",
   "id": "ce52607d",
   "metadata": {},
   "source": [
    "# Found and missed array, size = len(injection)"
   ]
  },
  {
   "cell_type": "code",
   "execution_count": 9,
   "id": "14b19d5e",
   "metadata": {},
   "outputs": [],
   "source": [
    "found_bool = numpy.zeros(len(injm1), dtype=bool)\n",
    "found_ifarlt_bool = numpy.zeros(len(injm1),dtype=bool)\n",
    "missed_bool = numpy.zeros(len(injm1), dtype=bool)"
   ]
  },
  {
   "cell_type": "code",
   "execution_count": 10,
   "id": "6efc5e08",
   "metadata": {},
   "outputs": [],
   "source": [
    "num_found = 0 \n",
    "num_missed = 0"
   ]
  },
  {
   "cell_type": "code",
   "execution_count": 11,
   "id": "2f4233a6",
   "metadata": {},
   "outputs": [],
   "source": [
    "fnames = glob.glob(\n",
    "    '/work/yifan.wang/search-high-spin/inj-t10-1p4spin0p9/runs/*/*/HIGHSPIN_coinc/*HDFINJFIND*.hdf')"
   ]
  },
  {
   "cell_type": "code",
   "execution_count": 12,
   "id": "11ee8f54",
   "metadata": {},
   "outputs": [
    {
     "data": {
      "text/plain": [
       "84"
      ]
     },
     "execution_count": 12,
     "metadata": {},
     "output_type": "execute_result"
    }
   ],
   "source": [
    "len(fnames)"
   ]
  },
  {
   "cell_type": "code",
   "execution_count": 13,
   "id": "0253964a",
   "metadata": {},
   "outputs": [],
   "source": [
    "loundest_ifar = 1.01 #a constant\n",
    "t = 0 #foreground time\n",
    "\n",
    "for fname in fnames:\n",
    "    f = h5py.File(fname, 'r')\n",
    "    num_found += len(f['found/ifar_exc'])\n",
    "    num_missed += len(f['missed/after_vetoes'])#after_vetoes: I think it means some injections are actually \n",
    "    #injected to veto times 'by accident', what one really cares about should be those 'within_analysis'\n",
    "    #There is also an argument named 'within_analysis', which is identical to that of 'after_vetoes'\n",
    "    \n",
    "    ifar = f['found/ifar_exc'][:]\n",
    "    #turn the found and missed indices to True\n",
    "    injindex = f['found/injection_index'][:]\n",
    "    injindex_ifarlt = injindex[numpy.where(ifar>=loundest_ifar)[0]]\n",
    "    \n",
    "    found_bool[injindex] = True\n",
    "    found_ifarlt_bool[injindex_ifarlt] = True\n",
    "    \n",
    "    missindex = f['missed/after_vetoes'][:] # is this also indices??? Yes it is\n",
    "    missed_bool[missindex] = True\n",
    "    \n",
    "    t += f.attrs['foreground_time_exc'] / lal_YRJUL_SI"
   ]
  },
  {
   "cell_type": "code",
   "execution_count": 14,
   "id": "6500b33b",
   "metadata": {},
   "outputs": [
    {
     "data": {
      "text/plain": [
       "132955"
      ]
     },
     "execution_count": 14,
     "metadata": {},
     "output_type": "execute_result"
    }
   ],
   "source": [
    "found_bool.sum()"
   ]
  },
  {
   "cell_type": "code",
   "execution_count": 15,
   "id": "728be23c",
   "metadata": {},
   "outputs": [
    {
     "data": {
      "text/plain": [
       "64356"
      ]
     },
     "execution_count": 15,
     "metadata": {},
     "output_type": "execute_result"
    }
   ],
   "source": [
    "found_ifarlt_bool.sum()"
   ]
  },
  {
   "cell_type": "code",
   "execution_count": 16,
   "id": "056db6ea",
   "metadata": {},
   "outputs": [
    {
     "data": {
      "text/plain": [
       "132955"
      ]
     },
     "execution_count": 16,
     "metadata": {},
     "output_type": "execute_result"
    }
   ],
   "source": [
    "num_found"
   ]
  },
  {
   "cell_type": "code",
   "execution_count": 17,
   "id": "5996b4f0",
   "metadata": {},
   "outputs": [
    {
     "data": {
      "text/plain": [
       "171851"
      ]
     },
     "execution_count": 17,
     "metadata": {},
     "output_type": "execute_result"
    }
   ],
   "source": [
    "missed_bool.sum()"
   ]
  },
  {
   "cell_type": "code",
   "execution_count": 18,
   "id": "2b572842",
   "metadata": {},
   "outputs": [
    {
     "data": {
      "text/plain": [
       "171851"
      ]
     },
     "execution_count": 18,
     "metadata": {},
     "output_type": "execute_result"
    }
   ],
   "source": [
    "num_missed"
   ]
  },
  {
   "cell_type": "markdown",
   "id": "7ac03fcd",
   "metadata": {},
   "source": [
    "# VT"
   ]
  },
  {
   "cell_type": "code",
   "execution_count": 19,
   "id": "64004301",
   "metadata": {},
   "outputs": [
    {
     "data": {
      "text/plain": [
       "array([-0.9, -0.9, -0.9, -0.5, -0.1, -0.1,  0.1,  0.1,  0.5,  0.9,  0.9,\n",
       "        0.9])"
      ]
     },
     "execution_count": 19,
     "metadata": {},
     "output_type": "execute_result"
    }
   ],
   "source": [
    "np.unique(injchieff)"
   ]
  },
  {
   "cell_type": "code",
   "execution_count": 20,
   "id": "1cbbed3f",
   "metadata": {},
   "outputs": [],
   "source": [
    "spin = numpy.array([-0.9,-0.5,-0.1,0.1,0.5,0.9])"
   ]
  },
  {
   "cell_type": "code",
   "execution_count": 22,
   "id": "cd69d7c2",
   "metadata": {},
   "outputs": [
    {
     "name": "stdout",
     "output_type": "stream",
     "text": [
      "found 11001 injections!!\n",
      "found 10851 injections!!\n",
      "found 10761 injections!!\n",
      "found 10683 injections!!\n",
      "found 10664 injections!!\n",
      "found 10396 injections!!\n"
     ]
    }
   ],
   "source": [
    "volume = {}\n",
    "num_total = 0\n",
    "num_found = 0\n",
    "num_missed = 0\n",
    "\n",
    "realmissed_bool = (found_bool ^ found_ifarlt_bool) | missed_bool\n",
    "\n",
    "for spinv in spin:\n",
    "    region = np.isclose(injchieff,spinv) \n",
    "        \n",
    "    found_dist = injdist[found_ifarlt_bool & region]\n",
    "    missed_dist = injdist[realmissed_bool & region]\n",
    "        \n",
    "    found_mc = injmc[found_ifarlt_bool & region]\n",
    "    missed_mc = injmc[realmissed_bool & region]\n",
    "        \n",
    "    num_total += region.sum()\n",
    "    num_found += len(found_dist)\n",
    "        \n",
    "    if len(found_dist) == 0:\n",
    "        print('no injections are found with chieff: ', spinv)\n",
    "        v=0\n",
    "        e=0\n",
    "    else:\n",
    "        print('found %d injections!!' % len(found_dist))\n",
    "        v, e = volume_montecarlo(found_dist, missed_dist, \n",
    "                                 found_mc, missed_mc, \n",
    "                                 'distance', 'uniform', 'distance',20,500)\n",
    "        volume[spinv] = [v,e]"
   ]
  },
  {
   "cell_type": "code",
   "execution_count": 23,
   "id": "807076b4",
   "metadata": {},
   "outputs": [
    {
     "data": {
      "text/plain": [
       "{-0.9: [25414552.193921473, 403805.2738207624],\n",
       " -0.5: [24727914.170141134, 395458.9489194244],\n",
       " -0.1: [24170249.32724535, 395008.5200925743],\n",
       " 0.1: [24002331.639746714, 386025.4674658333],\n",
       " 0.5: [24677370.531156223, 397152.3348768052],\n",
       " 0.9: [23170003.503633253, 375160.36798274994]}"
      ]
     },
     "execution_count": 23,
     "metadata": {},
     "output_type": "execute_result"
    }
   ],
   "source": [
    "volume"
   ]
  },
  {
   "cell_type": "code",
   "execution_count": 24,
   "id": "7e9e5add",
   "metadata": {},
   "outputs": [
    {
     "data": {
      "text/plain": [
       "0.9663021902806302"
      ]
     },
     "execution_count": 24,
     "metadata": {},
     "output_type": "execute_result"
    }
   ],
   "source": [
    "t"
   ]
  },
  {
   "cell_type": "markdown",
   "id": "ff9a8398",
   "metadata": {},
   "source": [
    "# Rate"
   ]
  },
  {
   "cell_type": "code",
   "execution_count": 25,
   "id": "51b0a4f1",
   "metadata": {},
   "outputs": [],
   "source": [
    "chieffv = []\n",
    "rate = []\n",
    "rate_high = []\n",
    "rate_low = []\n",
    "rate_high_threesigma = []\n",
    "rate_low_threesigma = []\n",
    "\n",
    "for spinv in volume:\n",
    "    chieffv.append(spinv)\n",
    "    rate.append(2.3/t/volume[spinv][0])\n",
    "    rate_high.append(2.3/t/(volume[spinv][0]-volume[spinv][1]))\n",
    "    rate_low.append(2.3/t/(volume[spinv][0]+volume[spinv][1]))\n",
    "    rate_high_threesigma.append(2.3/t/(volume[spinv][0]-3*volume[spinv][1]))\n",
    "    rate_low_threesigma.append(2.3/t/(volume[spinv][0]+3*volume[spinv][1]))\n",
    "    \n",
    "chieffv = np.array(chieffv)\n",
    "rate = np.array(rate)*1e9\n",
    "rate_high = np.array(rate_high)*1e9\n",
    "rate_low = np.array(rate_low)*1e9\n",
    "rate_high_threesigma = np.array(rate_high_threesigma)*1e9\n",
    "rate_low_threesigma = np.array(rate_low_threesigma)*1e9"
   ]
  },
  {
   "cell_type": "code",
   "execution_count": 26,
   "id": "73db7026",
   "metadata": {},
   "outputs": [
    {
     "data": {
      "text/plain": [
       "array([1.46479142, 1.51513331, 1.58350295, 1.56962119, 1.52770828,\n",
       "       1.63683163])"
      ]
     },
     "execution_count": 26,
     "metadata": {},
     "output_type": "execute_result"
    }
   ],
   "source": [
    "rate-rate_low"
   ]
  },
  {
   "cell_type": "code",
   "execution_count": 27,
   "id": "fb5c5f14",
   "metadata": {},
   "outputs": [
    {
     "data": {
      "text/plain": [
       "array([1.51209033, 1.56438219, 1.63612048, 1.62093435, 1.57768583,\n",
       "       1.69070999])"
      ]
     },
     "execution_count": 27,
     "metadata": {},
     "output_type": "execute_result"
    }
   ],
   "source": [
    "rate_high-rate"
   ]
  },
  {
   "cell_type": "code",
   "execution_count": 29,
   "id": "6f258ef1",
   "metadata": {},
   "outputs": [
    {
     "data": {
      "text/plain": [
       "(85.0, 110.0)"
      ]
     },
     "execution_count": 29,
     "metadata": {},
     "output_type": "execute_result"
    },
    {
     "data": {
      "image/png": "[encoded data removed]",
      "text/plain": [
       "<Figure size 735.243x454.405 with 1 Axes>"
      ]
     },
     "metadata": {
      "needs_background": "light"
     },
     "output_type": "display_data"
    }
   ],
   "source": [
    "error = np.vstack(((rate-rate_low),(rate_high-rate)))\n",
    "#plt.errorbar(chieffv,rate,yerr=error,fmt='o-', capsize=15,label='$1.4M_\\odot - 1.4M_\\odot$')\n",
    "plt.plot(chieffv,rate,'-o',label='$1.4M_\\odot - 1.4M_\\odot$')\n",
    "plt.fill_between(chieffv, rate_low, rate_high,alpha=0.25,color='tab:blue',label='3 $\\sigma$/1 $\\sigma$ uncertainty')\n",
    "plt.fill_between(chieffv,rate_low_threesigma,rate_high_threesigma,alpha=0.15,color='tab:blue')\n",
    "\n",
    "plt.xlabel('$\\chi_\\mathrm{eff}$')\n",
    "plt.ylabel('$R_{90}$ [Gpc$^{-3}$ yr$^{-1}$]')\n",
    "plt.legend(loc='upper left')\n",
    "plt.ylim(85,110)\n",
    "#plt.savefig('rate.png',bbox_inches='tight')"
   ]
  },
  {
   "cell_type": "markdown",
   "id": "8e79e6fd",
   "metadata": {},
   "source": [
    "# Distance"
   ]
  },
  {
   "cell_type": "code",
   "execution_count": 30,
   "id": "d85a2fcd",
   "metadata": {},
   "outputs": [],
   "source": [
    "chieffv = []\n",
    "dist = []\n",
    "dist_high = []\n",
    "dist_low = []\n",
    "\n",
    "for spinv in volume:\n",
    "    chieffv.append(spinv)\n",
    "    d,dhigh,dlow = volume_to_distance_with_errors(volume[spinv][0], volume[spinv][1])\n",
    "    dist.append(d)\n",
    "    dist_high.append(dhigh)\n",
    "    dist_low.append(dlow)"
   ]
  },
  {
   "cell_type": "code",
   "execution_count": 31,
   "id": "748c160c",
   "metadata": {},
   "outputs": [
    {
     "data": {
      "text/plain": [
       "([182.38870965147865,\n",
       "  180.73112769762307,\n",
       "  179.3621661988259,\n",
       "  178.9458403742138,\n",
       "  180.60790609323314,\n",
       "  176.85302665844017],\n",
       " [0.960904383660079,\n",
       "  0.9583513447579719,\n",
       "  0.9718158083009598,\n",
       "  0.9542212400381516,\n",
       "  0.9637366511286132,\n",
       "  0.9494076789329142],\n",
       " [0.971137433694139,\n",
       "  0.9686241589606084,\n",
       "  0.982462433298366,\n",
       "  0.9645079324492372,\n",
       "  0.9741330368902652,\n",
       "  0.9597121063503664])"
      ]
     },
     "execution_count": 31,
     "metadata": {},
     "output_type": "execute_result"
    }
   ],
   "source": [
    "dist,dist_high,dist_low"
   ]
  },
  {
   "cell_type": "code",
   "execution_count": 39,
   "id": "94b02313",
   "metadata": {},
   "outputs": [],
   "source": [
    "np.savetxt('rate.txt',np.transpose([chieffv,rate,rate_low,rate_high,rate_low_threesigma,rate_high_threesigma]),\n",
    "          fmt='%.3f',\n",
    "          header='chi_eff rate rate_1sigma_low rate_1sigma_high rate_3sigma_low rate_3sigma_high')"
   ]
  },
  {
   "cell_type": "code",
   "execution_count": null,
   "id": "3f0bb3ca",
   "metadata": {},
   "outputs": [],
   "source": []
  }
 ],
 "metadata": {
  "kernelspec": {
   "display_name": "Python 3 (ipykernel)",
   "language": "python",
   "name": "python3"
  },
  "language_info": {
   "codemirror_mode": {
    "name": "ipython",
    "version": 3
   },
   "file_extension": ".py",
   "mimetype": "text/x-python",
   "name": "python",
   "nbconvert_exporter": "python",
   "pygments_lexer": "ipython3",
   "version": "3.7.3"
  }
 },
 "nbformat": 4,
 "nbformat_minor": 5
}
